{
 "cells": [
  {
   "cell_type": "code",
   "execution_count": 2,
   "metadata": {},
   "outputs": [],
   "source": [
    "# A script to download all states (except UT's) GSVA data for Data I-B\n",
    "\n",
    "import os\n",
    "import requests\n",
    "\n",
    "url_d = 'http://data.gov.in/sites/default/files/dataurl18072017/'\n",
    "url_r = [\n",
    "    'NAD-Manipur-GSVA_cur_2014-15.csv',\n",
    "    'NAD-Meghalaya-GSVA_cur_2016-17.csv',\n",
    "    'NAD-Jharkhand-GSVA_cur_2015-16.csv',\n",
    "    'NAD-Nagaland-GSVA_cur_2014-15.csv',\n",
    "    'NAD-Mizoram-GSVA_cur_2014-15.csv',\n",
    "    'NAD-Odisha-GSVA_cur_2016-17.csv',\n",
    "    'NAD-Karnataka-GSVA_cur_2015-16.csv',\n",
    "    'NAD-Kerala-GSVA_cur_2015-16.csv',\n",
    "    'NAD-Madhya_Pradesh-GSVA_cur_2016-17.csv',\n",
    "    'NAD-Tripura-GSVA_cur_2014-15.csv',\n",
    "    'NAD-Maharashtra-GSVA_cur_2014-15.csv',\n",
    "    'NAD-Uttar_Pradesh-GSVA_cur_2015-16.csv',\n",
    "    'NAD-Uttarakhand-GSVA_cur_2015-16.csv',\n",
    "    'NAD-Punjab-GSVA_cur_2014-15.csv',\n",
    "    'NAD-Tamil_Nadu-GSVA_cur_2016-17.csv',\n",
    "    'NAD-Telangana-GSVA_cur_2016-17.csv',\n",
    "    'NAD-Arunachal_Pradesh-GSVA_cur_2015-16.csv',\n",
    "    'NAD-Rajasthan-GSVA_cur_2014-15.csv',\n",
    "    'NAD-Andhra_Pradesh-GSVA_cur_2016-17.csv',\n",
    "    'NAD-Assam-GSVA_cur_2015-16.csv',\n",
    "    'NAD-Sikkim-GSVA_cur_2015-16.csv',\n",
    "    'NAD-Bihar-GSVA_cur_2015-16.csv',\n",
    "    'NAD-Himachal_Pradesh-GSVA_cur_2014-15.csv',\n",
    "    'NAD-Gujarat-GSVA_cur_2015-16.csv',\n",
    "    'NAD-Haryana-GSVA_cur_2016-17.csv',\n",
    "    'NAD-Goa-GSVA_cur_2015-16.csv',\n",
    "    'NAD-Chhattisgarh-GSVA_cur_2016-17.csv',\n",
    "]\n",
    "\n",
    "def fetch_csvs():\n",
    "    for i in url_r:\n",
    "        url = url_d+i\n",
    "        r = requests.get(url)\n",
    "        print(\"Downloading: \", i)\n",
    "        if r.status_code!=200:\n",
    "            print(\"Failed\")\n",
    "            exit()\n",
    "        with open(i, 'wb') as f:\n",
    "            f.write(r.content)\n",
    "    print(\"\\nAll files have downloaded :)\")"
   ]
  },
  {
   "cell_type": "code",
   "execution_count": 3,
   "metadata": {},
   "outputs": [
    {
     "name": "stdout",
     "output_type": "stream",
     "text": [
      "Downloading:  NAD-Manipur-GSVA_cur_2014-15.csv\n",
      "Downloading:  NAD-Meghalaya-GSVA_cur_2016-17.csv\n",
      "Downloading:  NAD-Jharkhand-GSVA_cur_2015-16.csv\n",
      "Downloading:  NAD-Nagaland-GSVA_cur_2014-15.csv\n",
      "Downloading:  NAD-Mizoram-GSVA_cur_2014-15.csv\n",
      "Downloading:  NAD-Odisha-GSVA_cur_2016-17.csv\n",
      "Downloading:  NAD-Karnataka-GSVA_cur_2015-16.csv\n",
      "Downloading:  NAD-Kerala-GSVA_cur_2015-16.csv\n",
      "Downloading:  NAD-Madhya_Pradesh-GSVA_cur_2016-17.csv\n",
      "Downloading:  NAD-Tripura-GSVA_cur_2014-15.csv\n",
      "Downloading:  NAD-Maharashtra-GSVA_cur_2014-15.csv\n",
      "Downloading:  NAD-Uttar_Pradesh-GSVA_cur_2015-16.csv\n",
      "Downloading:  NAD-Uttarakhand-GSVA_cur_2015-16.csv\n",
      "Downloading:  NAD-Punjab-GSVA_cur_2014-15.csv\n",
      "Downloading:  NAD-Tamil_Nadu-GSVA_cur_2016-17.csv\n",
      "Downloading:  NAD-Telangana-GSVA_cur_2016-17.csv\n",
      "Downloading:  NAD-Arunachal_Pradesh-GSVA_cur_2015-16.csv\n",
      "Downloading:  NAD-Rajasthan-GSVA_cur_2014-15.csv\n",
      "Downloading:  NAD-Andhra_Pradesh-GSVA_cur_2016-17.csv\n",
      "Downloading:  NAD-Assam-GSVA_cur_2015-16.csv\n",
      "Downloading:  NAD-Sikkim-GSVA_cur_2015-16.csv\n",
      "Downloading:  NAD-Bihar-GSVA_cur_2015-16.csv\n",
      "Downloading:  NAD-Himachal_Pradesh-GSVA_cur_2014-15.csv\n",
      "Downloading:  NAD-Gujarat-GSVA_cur_2015-16.csv\n",
      "Downloading:  NAD-Haryana-GSVA_cur_2016-17.csv\n",
      "Downloading:  NAD-Goa-GSVA_cur_2015-16.csv\n",
      "Downloading:  NAD-Chhattisgarh-GSVA_cur_2016-17.csv\n",
      "\n",
      "All files have downloaded :)\n"
     ]
    }
   ],
   "source": [
    "fetch_csvs()"
   ]
  },
  {
   "cell_type": "code",
   "execution_count": null,
   "metadata": {},
   "outputs": [],
   "source": []
  }
 ],
 "metadata": {
  "kernelspec": {
   "display_name": "Python 3",
   "language": "python",
   "name": "python3"
  },
  "language_info": {
   "codemirror_mode": {
    "name": "ipython",
    "version": 3
   },
   "file_extension": ".py",
   "mimetype": "text/x-python",
   "name": "python",
   "nbconvert_exporter": "python",
   "pygments_lexer": "ipython3",
   "version": "3.7.1"
  }
 },
 "nbformat": 4,
 "nbformat_minor": 2
}
